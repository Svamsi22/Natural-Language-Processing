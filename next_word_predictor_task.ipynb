{
 "cells": [
  {
   "cell_type": "code",
   "execution_count": null,
   "id": "56a8492f",
   "metadata": {},
   "outputs": [],
   "source": [
    "import numpy as np\n",
    "import tensorflow as tf\n",
    "from tensorflow.keras.models import Sequential\n",
    "from tensorflow.keras.layers import Embedding, LSTM, Dense\n",
    "from tensorflow.keras.preprocessing.text import Tokenizer\n",
    "from tensorflow.keras.preprocessing.sequence import pad_sequences\n"
   ]
  },
  {
   "cell_type": "code",
   "execution_count": null,
   "id": "be96804f",
   "metadata": {},
   "outputs": [],
   "source": [
    "# Specify the path to your text file\n",
    "file_path = r\"C:\\Users\\sikha\\OneDrive\\Desktop\\1661-0.txt\"# we can insert any path where the text is saved\n",
    "\n",
    "# Read the content of the text file\n",
    "with open(file_path, 'r', encoding='utf-8') as file:\n",
    "    book_text = file.read()\n"
   ]
  },
  {
   "cell_type": "code",
   "execution_count": null,
   "id": "f6c19bd3",
   "metadata": {},
   "outputs": [],
   "source": [
    "# Step 1: Preprocess the Text Data\n",
    "# Assume 'text_data' is your text data in string format\n",
    "\n",
    "# Tokenize the text\n",
    "tokenizer = Tokenizer()\n",
    "tokenizer.fit_on_texts([book_text])\n",
    "total_words = len(tokenizer.word_index) + 1"
   ]
  },
  {
   "cell_type": "code",
   "execution_count": null,
   "id": "0e3cb38a",
   "metadata": {},
   "outputs": [],
   "source": [
    "# Create input sequences and labels\n",
    "input_sequences = tokenizer.texts_to_sequences([book_text])[0]\n",
    "\n",
    "sequences = []\n",
    "for i in range(1, len(input_sequences)):\n",
    "    if i >= max_sequence_length:\n",
    "        n_gram_sequence = input_sequences[i - max_sequence_length : i + 1]\n",
    "        sequences.append(n_gram_sequence)\n",
    "\n",
    "sequences = np.array(sequences)\n",
    "X, y = sequences[:, :-1], sequences[:, -1]\n",
    "\n",
    "# Ensure that X has the correct shape\n",
    "X = pad_sequences(X, maxlen=input_sequence_length, padding='pre')\n",
    "\n",
    "# Correct the value for num_classes to be the vocabulary size\n",
    "y = tf.keras.utils.to_categorical(y, num_classes=total_words)  # Use total_words instead of total_words * 100"
   ]
  },
  {
   "cell_type": "code",
   "execution_count": null,
   "id": "16559240",
   "metadata": {
    "scrolled": false
   },
   "outputs": [],
   "source": [
    "# Build and train the model\n",
    "model = Sequential()\n",
    "model.add(Embedding(total_words, 100, input_length=max_sequence_length-1))\n",
    "model.add(LSTM(100))\n",
    "model.add(Dense(total_words, activation='softmax'))\n",
    "\n",
    "model.compile(loss='categorical_crossentropy', optimizer='adam', metrics=['accuracy'])\n",
    "model.fit(X, y, epochs=50, verbose=1)\n",
    "\n",
    "# Save the model weights\n",
    "model.save_weights('word_generate_model.h5')"
   ]
  },
  {
   "cell_type": "code",
   "execution_count": null,
   "id": "c8c2835f",
   "metadata": {},
   "outputs": [],
   "source": [
    "# Get the weights of each layer\n",
    "embedding_layer_weights = model.layers[0].get_weights()\n",
    "lstm_layer_weights = model.layers[1].get_weights()\n",
    "dense_layer_weights = model.layers[2].get_weights()\n",
    "\n",
    "# You can print or use these weights as needed\n",
    "print(\"Embedding Layer Weights:\", embedding_layer_weights)\n",
    "print(\"LSTM Layer Weights:\", lstm_layer_weights)\n",
    "print(\"Dense Layer Weights:\", dense_layer_weights)\n"
   ]
  },
  {
   "cell_type": "code",
   "execution_count": null,
   "id": "e8ad80ef",
   "metadata": {},
   "outputs": [],
   "source": [
    "def word_generate(seed_text, next_words, model, max_sequence_length):\n",
    "    for _ in range(next_words):\n",
    "        token_list = tokenizer.texts_to_sequences([seed_text])[0]\n",
    "        token_list = pad_sequences([token_list], maxlen=max_sequence_length-1, padding='pre')\n",
    "        predicted_probabilities = model.predict(token_list, verbose=0)[0]\n",
    "        predicted_index = np.argmax(predicted_probabilities)\n",
    "        \n",
    "        output_word = \"\"\n",
    "        for word, index in tokenizer.word_index.items():\n",
    "            if index == predicted_index:\n",
    "                output_word = word\n",
    "                break\n",
    "        seed_text += \" \" + output_word\n",
    "    return seed_text\n",
    "# Step 4: Generate Text Using the Trained Model\n",
    "generated_text = word_generate(\"This is an  \", 10, model, max_sequence_length)\n",
    "print(generated_text)"
   ]
  },
  {
   "cell_type": "code",
   "execution_count": null,
   "id": "344f5987",
   "metadata": {},
   "outputs": [],
   "source": []
  }
 ],
 "metadata": {
  "kernelspec": {
   "display_name": "Python 3 (ipykernel)",
   "language": "python",
   "name": "python3"
  },
  "language_info": {
   "codemirror_mode": {
    "name": "ipython",
    "version": 3
   },
   "file_extension": ".py",
   "mimetype": "text/x-python",
   "name": "python",
   "nbconvert_exporter": "python",
   "pygments_lexer": "ipython3",
   "version": "3.9.13"
  }
 },
 "nbformat": 4,
 "nbformat_minor": 5
}
